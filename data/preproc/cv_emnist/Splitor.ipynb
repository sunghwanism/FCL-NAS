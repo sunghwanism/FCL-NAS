{
 "cells": [
  {
   "cell_type": "code",
   "execution_count": null,
   "metadata": {},
   "outputs": [],
   "source": [
    "import os\n",
    "import numpy as np\n",
    "import json\n",
    "import pandas as pd\n",
    "\n",
    "import matplotlib.pyplot as plt"
   ]
  },
  {
   "cell_type": "code",
   "execution_count": null,
   "metadata": {},
   "outputs": [],
   "source": [
    "DATABATH = \"../../leaf/data/femnist/data/\"\n",
    "train_data_path = os.path.join(DATABATH, \"train\")\n",
    "test_data_path = os.path.join(DATABATH, \"test\")\n",
    "user_data_path = os.path.join(DATABATH, \"rem_user_data\")"
   ]
  },
  {
   "cell_type": "code",
   "execution_count": null,
   "metadata": {},
   "outputs": [],
   "source": [
    "train_data_list = os.listdir(train_data_path)\n",
    "test_data_list = os.listdir(test_data_path)\n",
    "user_data_list = os.listdir(user_data_path)"
   ]
  },
  {
   "cell_type": "code",
   "execution_count": null,
   "metadata": {},
   "outputs": [],
   "source": [
    "datapath = os.path.join(train_data_path, train_data_list[0])\n",
    "with open(datapath, 'r') as file:\n",
    "    data = json.load(file)"
   ]
  },
  {
   "cell_type": "code",
   "execution_count": null,
   "metadata": {},
   "outputs": [],
   "source": [
    "data.keys()"
   ]
  },
  {
   "cell_type": "code",
   "execution_count": null,
   "metadata": {},
   "outputs": [],
   "source": [
    "len(data['user_data'].keys())"
   ]
  },
  {
   "cell_type": "code",
   "execution_count": null,
   "metadata": {},
   "outputs": [],
   "source": [
    "train_users = data['users'][:4]"
   ]
  },
  {
   "cell_type": "code",
   "execution_count": null,
   "metadata": {},
   "outputs": [],
   "source": [
    "x_data = np.array(data['user_data'][train_users[3]]['x']).reshape(-1, 28, 28)\n",
    "plt.imshow(x_data[0], cmap='gray')\n",
    "plt.show()"
   ]
  },
  {
   "cell_type": "markdown",
   "metadata": {},
   "source": [
    "## After Preprocessing"
   ]
  },
  {
   "cell_type": "code",
   "execution_count": null,
   "metadata": {},
   "outputs": [],
   "source": [
    "preproc_train = os.listdir('train')\n",
    "preproc_test = os.listdir('test')\n",
    "\n",
    "users = [user.split('.')[0] for user in preproc_train]"
   ]
  },
  {
   "cell_type": "code",
   "execution_count": null,
   "metadata": {},
   "outputs": [],
   "source": [
    "users[0]"
   ]
  },
  {
   "cell_type": "code",
   "execution_count": null,
   "metadata": {},
   "outputs": [],
   "source": [
    "with open(f'train/{users[0]}.json', 'r') as file:\n",
    "    data = json.load(file)"
   ]
  },
  {
   "cell_type": "code",
   "execution_count": null,
   "metadata": {},
   "outputs": [],
   "source": [
    "data.keys()"
   ]
  },
  {
   "cell_type": "code",
   "execution_count": null,
   "metadata": {},
   "outputs": [],
   "source": [
    "for user in range(10):\n",
    "    with open(f'train/{users[0]}.json', 'r') as file:\n",
    "        data = json.load(file)\n",
    "    for task in range(10):\n",
    "        X_data = np.array(data[f'task_{task}']['x'])\n",
    "        print(len(X_data))\n",
    "    print(\"--------------\")"
   ]
  },
  {
   "cell_type": "code",
   "execution_count": null,
   "metadata": {},
   "outputs": [],
   "source": [
    "def get_task_batch(total_task_data, batch_size):\n",
    "    num_task = 5\n",
    "    batched_task_data = {}\n",
    "    \n",
    "    for task_id in range(num_task):\n",
    "        data = total_task_data[f'task_{task_id}']\n",
    "        one_task_batch_data = batch_data(data, batch_size)\n",
    "        batched_task_data[task_id] = one_task_batch_data\n",
    "        \n",
    "    return batched_task_data\n",
    "\n",
    "\n",
    "def batch_data(data, batch_size):\n",
    "\n",
    "    \"\"\"\n",
    "    data is a dict := {'x': [numpy array], 'y': [numpy array]} (on one client)\n",
    "    returns x, y, which are both numpy array of length: batch_size\n",
    "    \"\"\"\n",
    "    data_x = np.array(data[\"x\"]).reshape(-1, 1, 28, 28)\n",
    "    data_y = np.array(data[\"y\"])\n",
    "\n",
    "    # randomly shuffle data\n",
    "    np.random.seed(100)\n",
    "    rng_state = np.random.get_state()\n",
    "    np.random.shuffle(data_x)\n",
    "    np.random.set_state(rng_state)\n",
    "    np.random.shuffle(data_y)\n",
    "\n",
    "    # loop through mini-batches\n",
    "    batch_data = list()\n",
    "    for i in range(0, len(data_x), batch_size):\n",
    "        batched_x = data_x[i : i + batch_size]\n",
    "        batched_y = data_y[i : i + batch_size]\n",
    "        batch_data.append((batched_x, batched_y))\n",
    "\n",
    "        \n",
    "    return batch_data"
   ]
  },
  {
   "cell_type": "code",
   "execution_count": null,
   "metadata": {},
   "outputs": [],
   "source": [
    "with open(f'train/{users[1]}.json', 'r') as file:\n",
    "        datas = json.load(file)"
   ]
  },
  {
   "cell_type": "code",
   "execution_count": null,
   "metadata": {},
   "outputs": [],
   "source": [
    "datas.keys()"
   ]
  },
  {
   "cell_type": "code",
   "execution_count": null,
   "metadata": {},
   "outputs": [],
   "source": [
    "batched_data = get_task_batch(datas, 4)"
   ]
  },
  {
   "cell_type": "code",
   "execution_count": null,
   "metadata": {},
   "outputs": [],
   "source": [
    "len(batched_data[0][0][1])"
   ]
  },
  {
   "cell_type": "code",
   "execution_count": null,
   "metadata": {},
   "outputs": [],
   "source": [
    "len(batched_data[])"
   ]
  },
  {
   "cell_type": "code",
   "execution_count": null,
   "metadata": {},
   "outputs": [],
   "source": [
    "len(batched_data[0]) #task_1 data"
   ]
  },
  {
   "cell_type": "code",
   "execution_count": null,
   "metadata": {},
   "outputs": [],
   "source": [
    "len(batched_data[0][0])"
   ]
  },
  {
   "cell_type": "code",
   "execution_count": null,
   "metadata": {},
   "outputs": [],
   "source": [
    "len(batched_data[0])"
   ]
  },
  {
   "cell_type": "code",
   "execution_count": null,
   "metadata": {},
   "outputs": [],
   "source": []
  },
  {
   "cell_type": "code",
   "execution_count": null,
   "metadata": {},
   "outputs": [],
   "source": []
  }
 ],
 "metadata": {
  "kernelspec": {
   "display_name": "fcl_nas",
   "language": "python",
   "name": "python3"
  },
  "language_info": {
   "codemirror_mode": {
    "name": "ipython",
    "version": 3
   },
   "file_extension": ".py",
   "mimetype": "text/x-python",
   "name": "python",
   "nbconvert_exporter": "python",
   "pygments_lexer": "ipython3",
   "version": "3.9.19"
  }
 },
 "nbformat": 4,
 "nbformat_minor": 2
}
